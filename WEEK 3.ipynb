{
 "cells": [
  {
   "cell_type": "code",
   "execution_count": null,
   "metadata": {},
   "outputs": [
    {
     "name": "stdout",
     "output_type": "stream",
     "text": [
      "UDP Server is ready to receive API data...\n",
      "Received data from ('127.0.0.1', 59694): Current temperature: 8.2°C\n"
     ]
    }
   ],
   "source": [
    "import socket\n",
    "\n",
    "server_socket = socket.socket(socket.AF_INET, socket.SOCK_DGRAM)\n",
    "server_socket.bind(('localhost', 65433))\n",
    "print(\"UDP Server is ready to receive API data...\")\n",
    "while True:\n",
    "    data, client_address = server_socket.recvfrom(2048)\n",
    "    print(f\"Received data from {client_address}: {data.decode()}\")"
   ]
  },
  {
   "cell_type": "code",
   "execution_count": 1,
   "metadata": {},
   "outputs": [],
   "source": [
    "import socket\n",
    "client_socket = socket.socket(socket.AF_INET, socket.SOCK_DGRAM)\n",
    "server_address = ('localhost', 65433)\n",
    "message = b\"Hello, UDP Server!\"\n",
    "# Send message to the server\n",
    "client_socket.sendto(message, server_address)\n",
    "client_socket.close()\n"
   ]
  },
  {
   "cell_type": "code",
   "execution_count": null,
   "metadata": {},
   "outputs": [],
   "source": [
    "import socket \n",
    "server_socket = socket.socket(socket.AF_INET, socket.SOCK_DGRAM) \n",
    "server_socket.bind(('localhost', 65433)) \n",
    "\n",
    "#clients dictionary to handle them (IP, PORT)\n",
    "clients = {}\n",
    "\n",
    "print(\"UDP Chat Server is running...\")\n",
    "\n",
    "while True: \n",
    "    data, client_address = server_socket.recvfrom(2048) \n",
    "    message = data.decode()\n",
    "\n",
    "    if client_address not in clients:\n",
    "        clients[client_address] = f\"User{len(clients)+1}\"  # Assign a generic username\n",
    "\n",
    "    sender_name = clients[client_address]\n",
    "\n",
    "    print(f\"Received from {sender_name} ({client_address}): {message}\")\n",
    "    \n",
    "    # Broadcast message to all other clients\n",
    "    for addr in clients:\n",
    "        if addr != client_address:\n",
    "            server_socket.sendto(f\"{sender_name}: {message}\".encode(), addr)"
   ]
  }
 ],
 "metadata": {
  "kernelspec": {
   "display_name": "base",
   "language": "python",
   "name": "python3"
  },
  "language_info": {
   "codemirror_mode": {
    "name": "ipython",
    "version": 3
   },
   "file_extension": ".py",
   "mimetype": "text/x-python",
   "name": "python",
   "nbconvert_exporter": "python",
   "pygments_lexer": "ipython3",
   "version": "3.12.3"
  }
 },
 "nbformat": 4,
 "nbformat_minor": 2
}
