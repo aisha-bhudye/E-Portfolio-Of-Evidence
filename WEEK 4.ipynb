{
 "cells": [
  {
   "cell_type": "code",
   "execution_count": null,
   "metadata": {},
   "outputs": [
    {
     "name": "stdout",
     "output_type": "stream",
     "text": [
      "TCP Server is listening...\n",
      "Connected to ('127.0.0.1', 52964)\n",
      "Received: we finally did it\n",
      "text recorded!\n",
      "Connected to ('127.0.0.1', 52974)\n",
      "Received: this is a message\n",
      "text recorded!\n",
      "Connected to ('127.0.0.1', 53177)\n",
      "Received: this is a long message \n",
      "text recorded!\n"
     ]
    }
   ],
   "source": [
    "import socket\n",
    "# Create a TCP socket\n",
    "server_socket = socket.socket(socket.AF_INET, socket.SOCK_STREAM)\n",
    "server_socket.bind(('localhost', 65432))\n",
    "server_socket.listen(1) # Allow 1 pending connection\n",
    "print(\"TCP Server is listening...\")\n",
    "while True:\n",
    "    client_socket, client_address = server_socket.accept()\n",
    "    print(f\"Connected to {client_address}\")\n",
    "    data = client_socket.recv(1024)\n",
    "    print(f\"Received: {data.decode()}\")\n",
    "    # Echo back the data\n",
    "    client_socket.sendall(b\"ACK: \" + data)\n",
    "    # ... (Server setup code)\n",
    "    with open('received_file.txt', 'wb') as f:\n",
    "        #while True:\n",
    "          #data = client_socket.recv(1024)\n",
    "        if not data:\n",
    "            print(\"not data!\")\n",
    "            break\n",
    "        f.write(data)\n",
    "        print(\"text recorded!\")\n",
    "    client_socket.close()\n"
   ]
  }
 ],
 "metadata": {
  "kernelspec": {
   "display_name": "base",
   "language": "python",
   "name": "python3"
  },
  "language_info": {
   "codemirror_mode": {
    "name": "ipython",
    "version": 3
   },
   "file_extension": ".py",
   "mimetype": "text/x-python",
   "name": "python",
   "nbconvert_exporter": "python",
   "pygments_lexer": "ipython3",
   "version": "3.12.3"
  }
 },
 "nbformat": 4,
 "nbformat_minor": 2
}
