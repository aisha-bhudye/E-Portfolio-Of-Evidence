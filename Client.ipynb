{
 "cells": [
  {
   "cell_type": "code",
   "execution_count": 3,
   "metadata": {},
   "outputs": [],
   "source": [
    "import socket\n",
    "client_socket = socket.socket(socket.AF_INET, socket.SOCK_DGRAM)\n",
    "server_address = ('localhost', 65433)\n",
    "message = b\"Hello, UDP Server!\"\n",
    "# Send message to the server\n",
    "client_socket.sendto(message, server_address)\n",
    "client_socket.close()"
   ]
  },
  {
   "cell_type": "code",
   "execution_count": null,
   "metadata": {},
   "outputs": [
    {
     "name": "stderr",
     "output_type": "stream",
     "text": [
      "Exception in thread Thread-3 (listen_for_messages):\n",
      "Traceback (most recent call last):\n",
      "  File \"c:\\Users\\aisha\\miniconda3\\Lib\\threading.py\", line 1073, in _bootstrap_inner\n"
     ]
    },
    {
     "name": "stdout",
     "output_type": "stream",
     "text": [
      "UDP Chat Client is running...\n",
      "Type your message and press Enter to send:\n"
     ]
    },
    {
     "name": "stderr",
     "output_type": "stream",
     "text": [
      "    self.run()\n",
      "  File \"c:\\Users\\aisha\\miniconda3\\Lib\\site-packages\\ipykernel\\ipkernel.py\", line 766, in run_closure\n",
      "    _threading_Thread_run(self)\n",
      "  File \"c:\\Users\\aisha\\miniconda3\\Lib\\threading.py\", line 1010, in run\n",
      "    self._target(*self._args, **self._kwargs)\n",
      "  File \"C:\\Users\\aisha\\AppData\\Local\\Temp\\ipykernel_18384\\426763175.py\", line 14, in listen_for_messages\n",
      "OSError: [WinError 10022] An invalid argument was supplied\n"
     ]
    }
   ],
   "source": [
    "import socket\n",
    "import threading\n",
    "\n",
    "# Server address and port\n",
    "server_address = ('localhost', 65433)\n",
    "\n",
    "# Create the client socket\n",
    "client_socket = socket.socket(socket.AF_INET, socket.SOCK_DGRAM)\n",
    "\n",
    "# Function to receive messages from the server\n",
    "def listen_for_messages():\n",
    "    while True:\n",
    "        # Receive a message from the server\n",
    "        data, _ = client_socket.recvfrom(2048)\n",
    "        message = data.decode()\n",
    "        print(message)\n",
    "\n",
    "# Start a thread to listen for incoming messages\n",
    "thread = threading.Thread(target=listen_for_messages, daemon=True)\n",
    "thread.start()\n",
    "\n",
    "print(\"UDP Chat Client is running...\")\n",
    "print(\"Type your message and press Enter to send:\")\n",
    "\n",
    "while True:\n",
    "    # Get input from the user and send it to the server\n",
    "    message = input()\n",
    "    client_socket.sendto(message.encode(), server_address)\n"
   ]
  },
  {
   "cell_type": "markdown",
   "metadata": {},
   "source": []
  },
  {
   "cell_type": "markdown",
   "metadata": {},
   "source": []
  },
  {
   "cell_type": "markdown",
   "metadata": {},
   "source": []
  }
 ],
 "metadata": {
  "kernelspec": {
   "display_name": "base",
   "language": "python",
   "name": "python3"
  },
  "language_info": {
   "codemirror_mode": {
    "name": "ipython",
    "version": 3
   },
   "file_extension": ".py",
   "mimetype": "text/x-python",
   "name": "python",
   "nbconvert_exporter": "python",
   "pygments_lexer": "ipython3",
   "version": "3.12.3"
  }
 },
 "nbformat": 4,
 "nbformat_minor": 2
}
