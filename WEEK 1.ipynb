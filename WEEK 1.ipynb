{
 "cells": [
  {
   "cell_type": "code",
   "execution_count": 47,
   "metadata": {},
   "outputs": [
    {
     "name": "stdout",
     "output_type": "stream",
     "text": [
      "hello world\n"
     ]
    }
   ],
   "source": [
    "print('hello world')"
   ]
  },
  {
   "cell_type": "code",
   "execution_count": 2,
   "metadata": {},
   "outputs": [
    {
     "name": "stdout",
     "output_type": "stream",
     "text": [
      "7\n"
     ]
    }
   ],
   "source": [
    "num = 2\n",
    "second_num = 5\n",
    "total = num + second_num\n",
    "print (total)"
   ]
  },
  {
   "cell_type": "code",
   "execution_count": 4,
   "metadata": {},
   "outputs": [
    {
     "name": "stdout",
     "output_type": "stream",
     "text": [
      "10\n"
     ]
    }
   ],
   "source": [
    "num = 13\n",
    "second_num = 3\n",
    "total = num - second_num\n",
    "print(total)"
   ]
  },
  {
   "cell_type": "code",
   "execution_count": 5,
   "metadata": {},
   "outputs": [
    {
     "name": "stdout",
     "output_type": "stream",
     "text": [
      "39\n"
     ]
    }
   ],
   "source": [
    "num = 13\n",
    "second_num = 3\n",
    "total = num * second_num\n",
    "print(total)"
   ]
  },
  {
   "cell_type": "code",
   "execution_count": 6,
   "metadata": {},
   "outputs": [
    {
     "name": "stdout",
     "output_type": "stream",
     "text": [
      "10.0\n"
     ]
    }
   ],
   "source": [
    "num = 30\n",
    "second_num = 3\n",
    "total = num /second_num\n",
    "print(total)"
   ]
  },
  {
   "cell_type": "code",
   "execution_count": 7,
   "metadata": {},
   "outputs": [
    {
     "name": "stdout",
     "output_type": "stream",
     "text": [
      "2\n"
     ]
    }
   ],
   "source": [
    "num = 30\n",
    "second_num = 7\n",
    "total = num %second_num\n",
    "print(total)"
   ]
  },
  {
   "cell_type": "code",
   "execution_count": 11,
   "metadata": {},
   "outputs": [
    {
     "name": "stdout",
     "output_type": "stream",
     "text": [
      "900\n"
     ]
    }
   ],
   "source": [
    "num = 30\n",
    "total = num * num\n",
    "print (total)"
   ]
  },
  {
   "cell_type": "code",
   "execution_count": 23,
   "metadata": {},
   "outputs": [
    {
     "name": "stdout",
     "output_type": "stream",
     "text": [
      "banana\n",
      "apple\n",
      "pear\n",
      "orange\n",
      "plum\n"
     ]
    }
   ],
   "source": [
    "fruit_list = [\"banana\", \"apple\", \"pear\", \"orange\", \"plum\"]\n",
    "for fruit in  fruit_list:\n",
    "    print(fruit)"
   ]
  },
  {
   "cell_type": "code",
   "execution_count": 24,
   "metadata": {},
   "outputs": [
    {
     "name": "stdout",
     "output_type": "stream",
     "text": [
      "('lion', 'cat', 'dog')\n"
     ]
    }
   ],
   "source": [
    "thistuple = (\"lion\", \"cat\", \"dog\")\n",
    "print(thistuple)"
   ]
  },
  {
   "cell_type": "code",
   "execution_count": null,
   "metadata": {},
   "outputs": [],
   "source": [
    "thisdict = {\n",
    "  \"Python\": 1991,\n",
    "  \"Java\": 1996,\n",
    "  \"JavaScript\": 1995\n",
    "}"
   ]
  },
  {
   "cell_type": "code",
   "execution_count": 25,
   "metadata": {},
   "outputs": [
    {
     "name": "stdout",
     "output_type": "stream",
     "text": [
      "{'red', 'yellow', 'green'}\n"
     ]
    }
   ],
   "source": [
    "myset = {\"yellow\", \"green\", \"red\"}\n",
    "print(myset)"
   ]
  },
  {
   "cell_type": "code",
   "execution_count": 26,
   "metadata": {},
   "outputs": [
    {
     "name": "stdout",
     "output_type": "stream",
     "text": [
      "Python is an easy-to-learn programming language\n"
     ]
    }
   ],
   "source": [
    "string = \"Python is an easy-to-learn programming language\"\n",
    "print(string)"
   ]
  },
  {
   "cell_type": "code",
   "execution_count": 33,
   "metadata": {},
   "outputs": [
    {
     "name": "stdout",
     "output_type": "stream",
     "text": [
      "number is negative\n"
     ]
    }
   ],
   "source": [
    "number  = input()\n",
    "number = int(number)\n",
    "if number < 0 :\n",
    "    print (\"number is negative\")\n",
    "elif number > 0 :\n",
    "    print (\"number is positive\")\n",
    "else:\n",
    "    print(\"number is zero\")"
   ]
  },
  {
   "cell_type": "code",
   "execution_count": 37,
   "metadata": {},
   "outputs": [
    {
     "name": "stdout",
     "output_type": "stream",
     "text": [
      "letter is consonanat\n",
      "first letter is vowel\n",
      "letter is consonanat\n",
      "letter is consonanat\n"
     ]
    }
   ],
   "source": [
    "word  = input()\n",
    "word = list(word)\n",
    "for letter in word:\n",
    "    if letter[0] == \"a\" or letter[0] == \"e\" or letter[0] == \"o\" or letter[0] == \"i\" or letter [0] == \"u\" :\n",
    "        print(\"first letter is vowel\") \n",
    "    elif letter[0] != \"a\" or letter[0] != \"e\" or letter[0] != \"o\" or letter[0] != \"i\" or letter[0] != \"u\":\n",
    "        print(\"letter is consonanat\")"
   ]
  },
  {
   "cell_type": "code",
   "execution_count": 39,
   "metadata": {},
   "outputs": [
    {
     "name": "stdout",
     "output_type": "stream",
     "text": [
      "these are not equal\n"
     ]
    }
   ],
   "source": [
    "number  =  input()\n",
    "number =  int(number)\n",
    "second_number = input()\n",
    "second_number = int(second_number)\n",
    "if number == second_number:\n",
    "    print(\"these numbers are equal\")\n",
    "else :\n",
    "    print(\"these are not equal\")"
   ]
  },
  {
   "cell_type": "code",
   "execution_count": 41,
   "metadata": {},
   "outputs": [
    {
     "name": "stdout",
     "output_type": "stream",
     "text": [
      "1\n",
      "2\n",
      "3\n",
      "4\n",
      "5\n",
      "6\n",
      "7\n",
      "8\n",
      "9\n",
      "10\n"
     ]
    }
   ],
   "source": [
    "number = 0\n",
    "for i in range(10):\n",
    "    number = number + 1\n",
    "    print(number)"
   ]
  },
  {
   "cell_type": "code",
   "execution_count": 43,
   "metadata": {},
   "outputs": [
    {
     "name": "stdout",
     "output_type": "stream",
     "text": [
      "2\n",
      "4\n",
      "6\n",
      "8\n",
      "10\n"
     ]
    }
   ],
   "source": [
    "number = 0\n",
    "for i in range(5):\n",
    "    number = number + 2\n",
    "    print(number)"
   ]
  },
  {
   "cell_type": "code",
   "execution_count": 44,
   "metadata": {},
   "outputs": [
    {
     "name": "stdout",
     "output_type": "stream",
     "text": [
      "1\n",
      "3\n",
      "7\n",
      "15\n",
      "31\n"
     ]
    }
   ],
   "source": [
    "number = 0\n",
    "for i in range(5):\n",
    "    number = number + (number + 1)\n",
    "    print(number)"
   ]
  },
  {
   "cell_type": "code",
   "execution_count": 46,
   "metadata": {},
   "outputs": [
    {
     "data": {
      "text/plain": [
       "8"
      ]
     },
     "execution_count": 46,
     "metadata": {},
     "output_type": "execute_result"
    }
   ],
   "source": [
    "def find_the_sum(num1, num2):\n",
    "    total  = num1 + num2\n",
    "    return total\n",
    "\n",
    "find_the_sum(3, 5)"
   ]
  },
  {
   "cell_type": "code",
   "execution_count": 52,
   "metadata": {},
   "outputs": [
    {
     "ename": "TypeError",
     "evalue": "list indices must be integers or slices, not str",
     "output_type": "error",
     "traceback": [
      "\u001b[1;31m---------------------------------------------------------------------------\u001b[0m",
      "\u001b[1;31mTypeError\u001b[0m                                 Traceback (most recent call last)",
      "Cell \u001b[1;32mIn[52], line 4\u001b[0m\n\u001b[0;32m      2\u001b[0m user \u001b[38;5;241m=\u001b[39m \u001b[38;5;28mlist\u001b[39m(user)\n\u001b[0;32m      3\u001b[0m \u001b[38;5;28;01mfor\u001b[39;00m item \u001b[38;5;129;01min\u001b[39;00m user:\n\u001b[1;32m----> 4\u001b[0m     \u001b[38;5;28;01mif\u001b[39;00m \u001b[43muser\u001b[49m\u001b[43m[\u001b[49m\u001b[43mitem\u001b[49m\u001b[43m]\u001b[49m \u001b[38;5;241m>\u001b[39m user[item \u001b[38;5;241m+\u001b[39m \u001b[38;5;241m1\u001b[39m]:\n\u001b[0;32m      5\u001b[0m         \u001b[38;5;28mprint\u001b[39m(user[item] \u001b[38;5;241m+\u001b[39m \u001b[38;5;124m\"\u001b[39m\u001b[38;5;124mis bigger\u001b[39m\u001b[38;5;124m\"\u001b[39m)\n",
      "\u001b[1;31mTypeError\u001b[0m: list indices must be integers or slices, not str"
     ]
    }
   ],
   "source": [
    "\n",
    "user  = input()\n",
    "user = list(user)\n",
    "for item in user:\n",
    "    if user[item] > user[item + 1]:\n",
    "        print(user[item] + \"is bigger\")\n",
    "\n"
   ]
  },
  {
   "cell_type": "code",
   "execution_count": 56,
   "metadata": {},
   "outputs": [
    {
     "data": {
      "text/plain": [
       "2"
      ]
     },
     "execution_count": 56,
     "metadata": {},
     "output_type": "execute_result"
    }
   ],
   "source": [
    "def num_of_vowels(word):\n",
    "    v_num = 0\n",
    "    word = list(word)\n",
    "    for letter in word:\n",
    "        if letter[0] == \"a\" or letter[0] == \"e\" or letter[0] == \"o\" or letter[0] == \"i\" or letter [0] == \"u\" :\n",
    "            v_num = v_num + 1\n",
    "    return v_num\n",
    "\n",
    "num_of_vowels(\"apple\")"
   ]
  },
  {
   "cell_type": "code",
   "execution_count": 1,
   "metadata": {},
   "outputs": [
    {
     "name": "stdout",
     "output_type": "stream",
     "text": [
      "Password is strong\n",
      "Password must contain at least one uppercase letter. Password must contain at least one special character.\n"
     ]
    }
   ],
   "source": [
    "def check_password_strength(password):\n",
    "    # Criteria flags\n",
    "    has_upper = False\n",
    "    has_lower = False\n",
    "    has_special = False\n",
    "    has_min_length = len(password) >= 8\n",
    "\n",
    "    # Define special characters\n",
    "    special_characters = \"!@#$%^&*()-_=+[]{}|;:'\\\",.<>?/`~\"\n",
    "\n",
    "    # Check each character in the password\n",
    "    for char in password:\n",
    "        if char.isupper():\n",
    "            has_upper = True\n",
    "        elif char.islower():\n",
    "            has_lower = True\n",
    "        elif char in special_characters:\n",
    "            has_special = True\n",
    "\n",
    "    # Collect messages for failed criteria\n",
    "    messages = []\n",
    "    if not has_min_length:\n",
    "        messages.append(\"Password must be at least 8 characters long.\")\n",
    "    if not has_upper:\n",
    "        messages.append(\"Password must contain at least one uppercase letter.\")\n",
    "    if not has_lower:\n",
    "        messages.append(\"Password must contain at least one lowercase letter.\")\n",
    "    if not has_special:\n",
    "        messages.append(\"Password must contain at least one special character.\")\n",
    "\n",
    "    # Determine the result\n",
    "    if not messages:\n",
    "        print(\"Password is strong\")\n",
    "    else:\n",
    "        print(\" \".join(messages))\n",
    "\n",
    "# Example usage\n",
    "password1 = \"Pa$$word123\"\n",
    "check_password_strength(password1)\n",
    "\n",
    "password2 = \"password\"\n",
    "check_password_strength(password2)"
   ]
  },
  {
   "cell_type": "code",
   "execution_count": 2,
   "metadata": {},
   "outputs": [
    {
     "name": "stdout",
     "output_type": "stream",
     "text": [
      "Encrypted: KHOOR\n",
      "Decrypted: HELLO\n"
     ]
    }
   ],
   "source": [
    "def caesar_cipher(message, key, mode):\n",
    "    result = \"\"\n",
    "    \n",
    "    # Adjust key for decryption\n",
    "    if mode == \"decrypt\":\n",
    "        key = -key\n",
    "\n",
    "    for char in message:\n",
    "        if char.isalpha():  # Check if the character is a letter\n",
    "            shift = key % 26  # Wrap around the alphabet\n",
    "            if char.isupper():\n",
    "                # Shift uppercase letters\n",
    "                new_char = chr((ord(char) - ord('A') + shift) % 26 + ord('A'))\n",
    "            else:\n",
    "                # Shift lowercase letters\n",
    "                new_char = chr((ord(char) - ord('a') + shift) % 26 + ord('a'))\n",
    "            result += new_char\n",
    "        else:\n",
    "            result += char  # Non-alphabetic characters are added unchanged\n",
    "\n",
    "    return result\n",
    "\n",
    "# Example usage\n",
    "message_to_encrypt = \"HELLO\"\n",
    "key = 3\n",
    "encrypted_message = caesar_cipher(message_to_encrypt, key, \"encrypt\")\n",
    "print(\"Encrypted:\", encrypted_message)  # Output: KHOOR\n",
    "\n",
    "message_to_decrypt = \"KHOOR\"\n",
    "decrypted_message = caesar_cipher(message_to_decrypt, key, \"decrypt\")\n",
    "print(\"Decrypted:\", decrypted_message)  # Output: HELLO"
   ]
  },
  {
   "cell_type": "code",
   "execution_count": null,
   "metadata": {},
   "outputs": [],
   "source": []
  },
  {
   "cell_type": "code",
   "execution_count": 3,
   "metadata": {},
   "outputs": [
    {
     "name": "stdout",
     "output_type": "stream",
     "text": [
      "Welcome to Hangman!\n",
      "Guess the word:  _ _ _ _ _ _\n",
      "Incorrect! You have 5 guesses left.\n",
      "Current word:  _ _ _ _ _ _\n",
      "Incorrect! You have 4 guesses left.\n",
      "Current word:  _ _ _ _ _ _\n",
      "Incorrect! You have 3 guesses left.\n",
      "Current word:  _ _ _ _ _ _\n",
      "Incorrect! You have 2 guesses left.\n",
      "Current word:  _ _ _ _ _ _\n",
      "Incorrect! You have 1 guesses left.\n",
      "Current word:  _ _ _ _ _ _\n",
      "Good guess!\n",
      "Current word:  _ _ _ h _ _\n",
      "Good guess!\n",
      "Current word:  _ y _ h _ _\n",
      "Incorrect! You have 0 guesses left.\n",
      "Current word:  _ y _ h _ _\n",
      "Sorry, you ran out of guesses. The word was 'python'.\n"
     ]
    }
   ],
   "source": [
    "import random\n",
    "\n",
    "def hangman():\n",
    "    word_list = [\"python\", \"java\", \"javascript\"]\n",
    "    max_guesses = 6\n",
    "    word = random.choice(word_list)\n",
    "    guessed_letters = []\n",
    "    incorrect_guesses = 0\n",
    "    word_completion = \"_\" * len(word)\n",
    "\n",
    "    print(\"Welcome to Hangman!\")\n",
    "    print(\"Guess the word: \", \" \".join(word_completion))\n",
    "\n",
    "    while incorrect_guesses < max_guesses and \"_\" in word_completion:\n",
    "        guess = input(\"Guess a letter: \").lower()\n",
    "\n",
    "        if len(guess) != 1 or not guess.isalpha():\n",
    "            print(\"Please enter a single letter.\")\n",
    "            continue\n",
    "\n",
    "        if guess in guessed_letters:\n",
    "            print(\"You already guessed that letter.\")\n",
    "            continue\n",
    "\n",
    "        guessed_letters.append(guess)\n",
    "\n",
    "        if guess in word:\n",
    "            print(\"Good guess!\")\n",
    "            word_completion = \"\".join([char if char in guessed_letters else \"_\" for char in word])\n",
    "        else:\n",
    "            incorrect_guesses += 1\n",
    "            print(f\"Incorrect! You have {max_guesses - incorrect_guesses} guesses left.\")\n",
    "\n",
    "        print(\"Current word: \", \" \".join(word_completion))\n",
    "\n",
    "    if \"_\" not in word_completion:\n",
    "        print(f\"Congratulations, you guessed the word '{word}'!\")\n",
    "    else:\n",
    "        print(f\"Sorry, you ran out of guesses. The word was '{word}'.\")\n",
    "\n",
    "# Start the Hangman game\n",
    "hangman()"
   ]
  }
 ],
 "metadata": {
  "kernelspec": {
   "display_name": "base",
   "language": "python",
   "name": "python3"
  },
  "language_info": {
   "codemirror_mode": {
    "name": "ipython",
    "version": 3
   },
   "file_extension": ".py",
   "mimetype": "text/x-python",
   "name": "python",
   "nbconvert_exporter": "python",
   "pygments_lexer": "ipython3",
   "version": "3.12.3"
  }
 },
 "nbformat": 4,
 "nbformat_minor": 2
}
