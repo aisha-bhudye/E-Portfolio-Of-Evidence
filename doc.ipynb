{
 "cells": [
  {
   "cell_type": "code",
   "execution_count": 15,
   "metadata": {},
   "outputs": [
    {
     "name": "stdout",
     "output_type": "stream",
     "text": [
      "Server response: ACK: this is a long message \n",
      "Time TCP took in seconds 0.001\n"
     ]
    }
   ],
   "source": [
    "import socket\n",
    "import datetime\n",
    "client_socket = socket.socket(socket.AF_INET, socket.SOCK_STREAM)\n",
    "client_socket.connect(('localhost', 65432))\n",
    "message = input(\"Enter message: \")\n",
    "start_time =datetime.datetime.now()\n",
    "client_socket.sendall(message.encode())\n",
    "response = client_socket.recv(1024)\n",
    "print(f\"Server response: {response.decode()}\")\n",
    "end_time = datetime.datetime.now()\n",
    "with open('file_to_send.txt', 'rb') as f:\n",
    " client_socket.sendfile(f)\n",
    "client_socket.close()\n",
    "\n",
    "diff_time =(end_time - start_time).total_seconds()\n",
    "print(f\"Time TCP took in seconds {diff_time}\")\n"
   ]
  }
 ],
 "metadata": {
  "kernelspec": {
   "display_name": "base",
   "language": "python",
   "name": "python3"
  },
  "language_info": {
   "codemirror_mode": {
    "name": "ipython",
    "version": 3
   },
   "file_extension": ".py",
   "mimetype": "text/x-python",
   "name": "python",
   "nbconvert_exporter": "python",
   "pygments_lexer": "ipython3",
   "version": "3.12.3"
  }
 },
 "nbformat": 4,
 "nbformat_minor": 2
}
