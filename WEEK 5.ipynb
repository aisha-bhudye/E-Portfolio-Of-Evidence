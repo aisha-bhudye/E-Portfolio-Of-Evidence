{
 "cells": [
  {
   "cell_type": "code",
   "execution_count": null,
   "metadata": {},
   "outputs": [
    {
     "name": "stdout",
     "output_type": "stream",
     "text": [
      "Your Computer Name is:DESKTOP-ORHEUFL\n",
      "Your Computer IP Address is:10.100.52.95\n"
     ]
    }
   ],
   "source": [
    "import socket\n",
    "hostname = socket.gethostname()\n",
    "IPAddr = socket.gethostbyname(hostname)\n",
    "print(\"Your Computer Name is:\" + hostname)\n",
    "print(\"Your Computer IP Address is:\" + IPAddr)\n",
    "# Since the IP (10.100.52.95) falls within the 10.0.0.0 – 10.255.255.255 range, it is a private IP address. This means:\n",
    "# Network Details\n",
    "# Network Type: Private/Internal\n",
    "# Possible Use Case: University, Corporate, or Organizational Network\n",
    "# Communication: Only within the internal network unless routed through a public gateway\n"
   ]
  },
  {
   "cell_type": "code",
   "execution_count": 5,
   "metadata": {},
   "outputs": [
    {
     "name": "stdout",
     "output_type": "stream",
     "text": [
      "The IP address of www.gold.ac.uk is: 159.100.136.66\n"
     ]
    }
   ],
   "source": [
    "import socket\n",
    "\n",
    "university_website = \"www.gold.ac.uk\"  # Replace with the actual domain\n",
    "ip_address = socket.gethostbyname(university_website)\n",
    "\n",
    "print(f\"The IP address of {university_website} is: {ip_address}\")\n"
   ]
  },
  {
   "cell_type": "code",
   "execution_count": 8,
   "metadata": {},
   "outputs": [
    {
     "name": "stdout",
     "output_type": "stream",
     "text": [
      "=== Simple DHCP Simulation ===\n",
      "\n",
      "[CLIENT] Step 1: Sending DHCP DISCOVER\n",
      "\n",
      "[SERVER] Step 2: Making DHCP OFFER\n",
      "\n",
      "[CLIENT] Step 3: Sending DHCP REQUEST\n",
      "\n",
      "[SERVER] Step 4: Sending DHCP ACK\n",
      "\n",
      "=== Result ===\n",
      "Client AA:BB:CC:DD:EE:FF got IP: 192.168.1.100\n",
      "Server leases: {'AA:BB:CC:DD:EE:FF': '192.168.1.100'}\n"
     ]
    }
   ],
   "source": [
    "# dhcp_simple.py - Simplified DHCP Simulator\n",
    "\n",
    "# Server Configuration\n",
    "server = {\n",
    "    \"ip_pool\": [\"192.168.1.100\", \"192.168.1.101\", \"192.168.1.102\"],\n",
    "    \"leases\": {}\n",
    "}\n",
    "\n",
    "# Client Configuration\n",
    "client = {\n",
    "    \"mac\": \"AA:BB:CC:DD:EE:FF\",\n",
    "    \"ip\": None\n",
    "}\n",
    "\n",
    "def send_discover():\n",
    "    print(\"\\n[CLIENT] Step 1: Sending DHCP DISCOVER\")\n",
    "    return {\n",
    "        \"type\": \"DISCOVER\",\n",
    "        \"mac\": client[\"mac\"]\n",
    "    }\n",
    "\n",
    "def make_offer(discover):\n",
    "    print(\"\\n[SERVER] Step 2: Making DHCP OFFER\")\n",
    "    if not server[\"ip_pool\"]:\n",
    "        print(\"No IPs available!\")\n",
    "        return None\n",
    "    \n",
    "    offered_ip = server[\"ip_pool\"].pop(0)\n",
    "    return {\n",
    "        \"type\": \"OFFER\",\n",
    "        \"mac\": discover[\"mac\"],\n",
    "        \"ip\": offered_ip\n",
    "    }\n",
    "\n",
    "def send_request(offer):\n",
    "    print(\"\\n[CLIENT] Step 3: Sending DHCP REQUEST\")\n",
    "    return {\n",
    "        \"type\": \"REQUEST\",\n",
    "        \"mac\": offer[\"mac\"],\n",
    "        \"ip\": offer[\"ip\"]\n",
    "    }\n",
    "\n",
    "def send_ack(request):\n",
    "    print(\"\\n[SERVER] Step 4: Sending DHCP ACK\")\n",
    "    server[\"leases\"][request[\"mac\"]] = request[\"ip\"]\n",
    "    return {\n",
    "        \"type\": \"ACK\",\n",
    "        \"mac\": request[\"mac\"],\n",
    "        \"ip\": request[\"ip\"]\n",
    "    }\n",
    "\n",
    "def main():\n",
    "    print(\"=== Simple DHCP Simulation ===\")\n",
    "    \n",
    "    # Client starts process\n",
    "    discover = send_discover()\n",
    "    \n",
    "    # Server responds\n",
    "    offer = make_offer(discover)\n",
    "    if not offer:\n",
    "        return\n",
    "    \n",
    "    # Client continues\n",
    "    request = send_request(offer)\n",
    "    \n",
    "    # Server finalizes\n",
    "    ack = send_ack(request)\n",
    "    \n",
    "    # Update client IP\n",
    "    client[\"ip\"] = ack[\"ip\"]\n",
    "    \n",
    "    print(\"\\n=== Result ===\")\n",
    "    print(f\"Client {client['mac']} got IP: {client['ip']}\")\n",
    "    print(\"Server leases:\", server[\"leases\"])\n",
    "\n",
    "if __name__ == \"__main__\":\n",
    "    main()\n"
   ]
  }
 ],
 "metadata": {
  "kernelspec": {
   "display_name": "base",
   "language": "python",
   "name": "python3"
  },
  "language_info": {
   "codemirror_mode": {
    "name": "ipython",
    "version": 3
   },
   "file_extension": ".py",
   "mimetype": "text/x-python",
   "name": "python",
   "nbconvert_exporter": "python",
   "pygments_lexer": "ipython3",
   "version": "3.12.3"
  }
 },
 "nbformat": 4,
 "nbformat_minor": 2
}
